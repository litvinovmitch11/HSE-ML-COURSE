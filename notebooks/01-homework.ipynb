{
 "cells": [
  {
   "cell_type": "markdown",
   "metadata": {},
   "source": [
    "## Task 1 (easy)"
   ]
  },
  {
   "cell_type": "code",
   "execution_count": 4,
   "metadata": {},
   "outputs": [],
   "source": [
    "def func(array : list[float]) -> dict[str, float]:\n",
    "    '''\n",
    "    Find mean, median and mode in list of floats \n",
    "    '''\n",
    "\n",
    "    if not(array):\n",
    "        return {\"mean\": 0, \"median\": 0, \"mode\": 0}\n",
    "    \n",
    "    size = len(array)\n",
    "    sorted_array = sorted(array)\n",
    "    \n",
    "    mean = sum(array) / size\n",
    "\n",
    "    median = sorted_array[0]\n",
    "    if size % 2 == 0:\n",
    "        median = (sorted_array[size // 2 - 1] + sorted_array[size // 2]) / 2  \n",
    "    else:\n",
    "        median = sorted_array[size // 2]\n",
    "    \n",
    "    mode = sorted_array[0]\n",
    "    max_cnt = 1\n",
    "    cnt = 1\n",
    "    for i in range(1, size):\n",
    "        if sorted_array[i] != sorted_array[i - 1]:\n",
    "            cnt = 1\n",
    "        else:\n",
    "            cnt += 1\n",
    "            if cnt > max_cnt:\n",
    "                max_cnt = cnt\n",
    "                mode = sorted_array[i]\n",
    "\n",
    "    return {\"mean\": mean, \"median\": median, \"mode\": mode}"
   ]
  },
  {
   "cell_type": "code",
   "execution_count": 10,
   "metadata": {},
   "outputs": [
    {
     "name": "stdout",
     "output_type": "stream",
     "text": [
      "{'mean': 3.4285714285714284, 'median': 3, 'mode': 1}\n",
      "{'mean': 0, 'median': 0, 'mode': 0}\n",
      "{'mean': 2.0, 'median': 2, 'mode': 2}\n",
      "{'mean': 0.8, 'median': 1, 'mode': -2}\n",
      "{'mean': 0.5, 'median': 1.5, 'mode': 2}\n"
     ]
    }
   ],
   "source": [
    "# Тесты\n",
    "\n",
    "print(func([0, 1, 1, 10, 5, 4, 3]))\n",
    "print(func([]))\n",
    "print(func([2]))\n",
    "print(func([2, -2, 1, -1, 4]))\n",
    "print(func([-4, 2, -2, 1, 2, 4]))"
   ]
  },
  {
   "cell_type": "markdown",
   "metadata": {},
   "source": [
    "## Task 2 (medium)"
   ]
  },
  {
   "cell_type": "code",
   "execution_count": 55,
   "metadata": {},
   "outputs": [],
   "source": [
    "def format_dict(line: dict) -> dict:\n",
    "    line['id'] = int(line['id'])\n",
    "    line['legs'] = int(line['legs'])\n",
    "    line['roles'] = list(map(lambda string: string.strip()[1:-1], line['roles'][2:-2].split(',')))\n",
    "    return line\n",
    "    \n",
    "\n",
    "def parse_csv(file_content: str) -> list[dict]:\n",
    "    parse = list()\n",
    "    with open(file_content, \"r\") as f:\n",
    "        keys = f.readline().strip().split(',')[1:]\n",
    "        for line in f.readlines():\n",
    "            parse.append(format_dict(dict(zip(keys, line.strip().split(',', maxsplit=7)[1:]))))\n",
    "    return parse\n",
    "\n",
    "\n",
    "def find_max_legs(path: str) -> tuple[str, int]:\n",
    "    data = parse_csv(path)\n",
    "    max_leg = data[0]['legs']\n",
    "    name = data[0]['localized_name']\n",
    "    for item in data:\n",
    "        if item['legs'] > max_leg:\n",
    "            max_leg = item['legs']\n",
    "            name = item['localized_name']\n",
    "    return (name, max_leg)"
   ]
  },
  {
   "cell_type": "code",
   "execution_count": 57,
   "metadata": {},
   "outputs": [
    {
     "name": "stdout",
     "output_type": "stream",
     "text": [
      "name: Broodmother\n",
      "max legs: 8\n"
     ]
    }
   ],
   "source": [
    "# Тесты\n",
    "\n",
    "name, legs = find_max_legs(\"../data/dota_hero_stats.csv\")\n",
    "print(f\"name: {name}\\nmax legs: {legs}\")"
   ]
  },
  {
   "cell_type": "markdown",
   "metadata": {},
   "source": [
    "## Task 3 (hard)"
   ]
  },
  {
   "cell_type": "code",
   "execution_count": null,
   "metadata": {},
   "outputs": [],
   "source": []
  }
 ],
 "metadata": {
  "kernelspec": {
   "display_name": "venv",
   "language": "python",
   "name": "python3"
  },
  "language_info": {
   "codemirror_mode": {
    "name": "ipython",
    "version": 3
   },
   "file_extension": ".py",
   "mimetype": "text/x-python",
   "name": "python",
   "nbconvert_exporter": "python",
   "pygments_lexer": "ipython3",
   "version": "3.10.12"
  }
 },
 "nbformat": 4,
 "nbformat_minor": 2
}
