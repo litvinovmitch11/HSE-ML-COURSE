{
 "cells": [
  {
   "cell_type": "markdown",
   "metadata": {},
   "source": [
    "## Task 1 (easy)"
   ]
  },
  {
   "cell_type": "code",
   "execution_count": 1,
   "metadata": {},
   "outputs": [],
   "source": [
    "def func(array : list[float]) -> dict[str, float]:\n",
    "    '''\n",
    "    Find mean, median and mode in list of floats \n",
    "    '''\n",
    "\n",
    "    if not(array):\n",
    "        return {\"mean\": 0, \"median\": 0, \"mode\": 0}\n",
    "    \n",
    "    size = len(array)\n",
    "    sorted_array = sorted(array)\n",
    "    \n",
    "    mean = sum(array) / size\n",
    "    median = (sorted_array[size // 2 - 1] + sorted_array[size // 2]) / 2 if size % 2 == 0 else sorted_array[size // 2]\n",
    "    mode = sorted_array[0]\n",
    "    \n",
    "    max_cnt = 1\n",
    "    cnt = 1\n",
    "    for i in range(1, size):\n",
    "        if sorted_array[i] != sorted_array[i - 1]:\n",
    "            cnt = 1\n",
    "        else:\n",
    "            cnt += 1\n",
    "            if cnt > max_cnt:\n",
    "                max_cnt = cnt\n",
    "                mode = sorted_array[i]\n",
    "\n",
    "    return {\"mean\": mean, \"median\": median, \"mode\": mode}"
   ]
  },
  {
   "cell_type": "code",
   "execution_count": 2,
   "metadata": {},
   "outputs": [
    {
     "data": {
      "text/plain": [
       "{'mean': 3.4285714285714284, 'median': 3, 'mode': 1}"
      ]
     },
     "execution_count": 2,
     "metadata": {},
     "output_type": "execute_result"
    }
   ],
   "source": [
    "func([0, 1, 1, 10, 5, 4, 3])"
   ]
  },
  {
   "cell_type": "markdown",
   "metadata": {},
   "source": [
    "## Task 2 (medium)"
   ]
  },
  {
   "cell_type": "code",
   "execution_count": null,
   "metadata": {},
   "outputs": [],
   "source": []
  },
  {
   "cell_type": "markdown",
   "metadata": {},
   "source": [
    "## Task 3 (hard)"
   ]
  },
  {
   "cell_type": "code",
   "execution_count": null,
   "metadata": {},
   "outputs": [],
   "source": []
  }
 ],
 "metadata": {
  "kernelspec": {
   "display_name": "venv",
   "language": "python",
   "name": "python3"
  },
  "language_info": {
   "codemirror_mode": {
    "name": "ipython",
    "version": 3
   },
   "file_extension": ".py",
   "mimetype": "text/x-python",
   "name": "python",
   "nbconvert_exporter": "python",
   "pygments_lexer": "ipython3",
   "version": "3.10.12"
  }
 },
 "nbformat": 4,
 "nbformat_minor": 2
}
